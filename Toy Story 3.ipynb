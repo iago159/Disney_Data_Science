{
 "cells": [
  {
   "cell_type": "code",
   "execution_count": 99,
   "id": "905160d2",
   "metadata": {},
   "outputs": [],
   "source": [
    "from bs4 import BeautifulSoup as bs\n",
    "import requests"
   ]
  },
  {
   "cell_type": "markdown",
   "id": "1c0adf96",
   "metadata": {},
   "source": [
    "## Task 1: Get the informations of Toy Story"
   ]
  },
  {
   "cell_type": "markdown",
   "id": "44929e78",
   "metadata": {},
   "source": [
    "### Get the page content"
   ]
  },
  {
   "cell_type": "code",
   "execution_count": 72,
   "id": "d92ef7a2",
   "metadata": {},
   "outputs": [],
   "source": [
    "toy_story3_r = requests.get('https://en.wikipedia.org/wiki/Toy_Story_3')\n",
    "toy_story3_webpage = bs(toy_story3_r.content)"
   ]
  },
  {
   "cell_type": "markdown",
   "id": "29d15ccc",
   "metadata": {},
   "source": [
    "###  Get the rows with the informations"
   ]
  },
  {
   "cell_type": "code",
   "execution_count": 103,
   "id": "ab2016ad",
   "metadata": {},
   "outputs": [
    {
     "name": "stdout",
     "output_type": "stream",
     "text": [
      "<tr><th class=\"infobox-label\" scope=\"row\" style=\"white-space: nowrap; padding-right: 0.65em;\">Screenplay by</th><td class=\"infobox-data\"><a href=\"/wiki/Michael_Arndt\" title=\"Michael Arndt\">Michael Arndt</a></td></tr>\n"
     ]
    }
   ],
   "source": [
    "toy_story3_infotable = toy_story3_webpage.find('table', attrs={'class': 'infobox vevent'})\n",
    "toy_story3_infotable_rows = toy_story3_infotable.find_all('tr')\n",
    "\n",
    "print(toy_story3_infotable_rows[3])"
   ]
  },
  {
   "cell_type": "markdown",
   "id": "840e36d1",
   "metadata": {},
   "source": [
    "### Put the informations into a python dictionary"
   ]
  },
  {
   "cell_type": "code",
   "execution_count": 98,
   "id": "e92807da",
   "metadata": {},
   "outputs": [
    {
     "data": {
      "text/plain": [
       "{'Title': 'Toy Story 3',\n",
       " 'Directed by': 'Lee Unkrich',\n",
       " 'Screenplay by': 'Michael Arndt',\n",
       " 'Story by': ['John Lasseter', 'Andrew Stanton', 'Lee Unkrich'],\n",
       " 'Produced by': 'Darla K. Anderson',\n",
       " 'Starring': ['Tom Hanks',\n",
       "  'Tim Allen',\n",
       "  'Joan Cusack',\n",
       "  'Don Rickles',\n",
       "  'Wallace Shawn',\n",
       "  'John Ratzenberger',\n",
       "  'Estelle Harris',\n",
       "  'Ned Beatty',\n",
       "  'Michael Keaton',\n",
       "  'Jodi Benson',\n",
       "  'John Morris'],\n",
       " 'Cinematography': ['Jeremy Lasky', 'Kim White'],\n",
       " 'Edited by': 'Ken Schretzmann',\n",
       " 'Music by': 'Randy Newman',\n",
       " 'Production companies': ['Walt Disney Pictures', 'Pixar Animation Studios'],\n",
       " 'Distributed by': 'Walt Disney Studios Motion Pictures',\n",
       " 'Release date': ['June 12, 2010 ( 2010-06-12 ) ( Taormina Film Fest )',\n",
       "  'June 18, 2010 ( 2010-06-18 ) (United States)'],\n",
       " 'Running time': '103 minutes [1]',\n",
       " 'Country': 'United States',\n",
       " 'Language': 'English',\n",
       " 'Budget': '$200 million [1]',\n",
       " 'Box office': '$1.067 billion [1]'}"
      ]
     },
     "execution_count": 98,
     "metadata": {},
     "output_type": "execute_result"
    }
   ],
   "source": [
    "def get_content_values(row_data):\n",
    "    if row_data.find('li'):\n",
    "        return [li.get_text(' ', strip=True).replace(u'\\xa0', u' ') for li in row_data.find_all('li')]\n",
    "    else:\n",
    "        return row_data.get_text(' ', strip=True).replace(u'\\xa0', u' ')\n",
    "\n",
    "toy_story3_informations = {}\n",
    "\n",
    "for index, row in enumerate(toy_story3_infotable_rows):\n",
    "    if index == 0:\n",
    "        toy_story3_informations['Title'] = row.th.get_text(' ', strip=True).strip()\n",
    "    if row.th and row.td:\n",
    "        content_key = row.th.get_text(' ', strip=True)\n",
    "        content_value = get_content_values(row.td)\n",
    "        for value in content_value:\n",
    "            value.replace(u'\\xa0', u' ')\n",
    "        toy_story3_informations[content_key] = content_value\n",
    "\n",
    "toy_story3_informations "
   ]
  }
 ],
 "metadata": {
  "kernelspec": {
   "display_name": "Python 3",
   "language": "python",
   "name": "python3"
  },
  "language_info": {
   "codemirror_mode": {
    "name": "ipython",
    "version": 3
   },
   "file_extension": ".py",
   "mimetype": "text/x-python",
   "name": "python",
   "nbconvert_exporter": "python",
   "pygments_lexer": "ipython3",
   "version": "3.8.8"
  }
 },
 "nbformat": 4,
 "nbformat_minor": 5
}
