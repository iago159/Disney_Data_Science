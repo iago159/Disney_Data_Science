{
 "cells": [
  {
   "cell_type": "code",
   "execution_count": 1,
   "id": "da686583",
   "metadata": {},
   "outputs": [],
   "source": [
    "from bs4 import BeautifulSoup as bs\n",
    "import requests"
   ]
  },
  {
   "cell_type": "markdown",
   "id": "ec2ce09d",
   "metadata": {},
   "source": [
    "## Task 1: Getting all disney movies "
   ]
  },
  {
   "cell_type": "markdown",
   "id": "b99bcae0",
   "metadata": {},
   "source": [
    "### Grabbing the wikipedia page with the movies "
   ]
  },
  {
   "cell_type": "code",
   "execution_count": 2,
   "id": "7ce481c0",
   "metadata": {},
   "outputs": [],
   "source": [
    "url = 'https://en.wikipedia.org'\n",
    "r = requests.get(url +'/wiki/List_of_Walt_Disney_Pictures_films')\n",
    "movies_webpage = bs(r.content)"
   ]
  },
  {
   "cell_type": "markdown",
   "id": "1039e4f7",
   "metadata": {},
   "source": [
    "### Grabbing the Movies from the wiki page"
   ]
  },
  {
   "cell_type": "code",
   "execution_count": 3,
   "id": "5ad8b808",
   "metadata": {},
   "outputs": [
    {
     "data": {
      "text/plain": [
       "<a href=\"/wiki/Academy_Award_Review_of_Walt_Disney_Cartoons\" title=\"Academy Award Review of Walt Disney Cartoons\">Academy Award Review of Walt Disney Cartoons</a>"
      ]
     },
     "execution_count": 3,
     "metadata": {},
     "output_type": "execute_result"
    }
   ],
   "source": [
    "movies = movies_webpage.select('.wikitable.sortable i a')\n",
    "movies[0]"
   ]
  },
  {
   "cell_type": "markdown",
   "id": "262e370b",
   "metadata": {},
   "source": [
    "### Functions to grab the informations"
   ]
  },
  {
   "cell_type": "code",
   "execution_count": 4,
   "id": "74ff68e1",
   "metadata": {},
   "outputs": [],
   "source": [
    "# for div in soup3.find_all(\"div\", attrs={\"class\" : \"story-body story-content\"}):\n",
    "#     text_list = [text for text in div.stripped_strings]\n",
    "\n",
    "\n",
    "def get_content_values(row_data):\n",
    "    if row_data.find('li'):\n",
    "        return [li.get_text(' ', strip=True).replace(u'\\xa0', u' ') for li in row_data.find_all('li')]\n",
    "    elif row_data.find('br'):\n",
    "        return [text for text in row_data.stripped_strings]\n",
    "    else:\n",
    "        return row_data.get_text(' ', strip=True).replace(u'\\xa0', u' ')\n",
    "    \n",
    "def clean_tags(page):\n",
    "    for tag in page.find_all(['sup', 'span']):\n",
    "        tag.decompose()\n",
    "\n",
    "def get_info_box(url):\n",
    "    r = requests.get(url)\n",
    "    movie_page = bs(r.content)\n",
    "    info_box = movie_page.find(class_='infobox vevent')\n",
    "    info_rows = info_box.find_all('tr')\n",
    "    clean_tags(movie_page)\n",
    "    movie_info = {}\n",
    "    for index, row in enumerate(info_rows):\n",
    "        if index == 0:\n",
    "            movie_info['Title'] = row.th.get_text(' ', strip=True).strip()\n",
    "        else:\n",
    "            header = row.find('th')\n",
    "            content = row.find('td')\n",
    "            if header and content:\n",
    "                content_key = row.th.get_text(' ', strip=True)\n",
    "                content_value = get_content_values(row.td)\n",
    "                movie_info[content_key] = content_value\n",
    "    return movie_info"
   ]
  },
  {
   "cell_type": "code",
   "execution_count": 5,
   "id": "cc73852f",
   "metadata": {},
   "outputs": [],
   "source": [
    "try:\n",
    "    get_info_box('https://en.m.wikipedia.org/wiki/The_Omega_Connection')\n",
    "except Exception as e:\n",
    "    print(e)"
   ]
  },
  {
   "cell_type": "markdown",
   "id": "a12232ee",
   "metadata": {},
   "source": [
    "### Grabbing the dictionaries of informations and putting them into a list"
   ]
  },
  {
   "cell_type": "code",
   "execution_count": 6,
   "id": "b3d3b0b8",
   "metadata": {},
   "outputs": [
    {
     "name": "stdout",
     "output_type": "stream",
     "text": [
      "0\n",
      "15\n",
      "30\n",
      "45\n",
      "60\n",
      "75\n",
      "90\n",
      "105\n",
      "120\n",
      "True-Life Adventures\n",
      "'NoneType' object has no attribute 'find_all'\n",
      "135\n",
      "150\n",
      "165\n",
      "180\n",
      "195\n",
      "210\n",
      "225\n",
      "240\n",
      "255\n",
      "270\n",
      "285\n",
      "300\n",
      "315\n",
      "330\n",
      "345\n",
      "360\n",
      "375\n",
      "390\n",
      "405\n",
      "420\n",
      "435\n",
      "450\n",
      "Better Nate Than Never\n",
      "'NoneType' object has no attribute 'find_all'\n"
     ]
    }
   ],
   "source": [
    "movie_info_list = []\n",
    "for index, movie in enumerate(movies):\n",
    "    if index % 15 == 0:\n",
    "        print(index)\n",
    "    try:\n",
    "        relative_path = movie['href']\n",
    "        full_path = url + relative_path\n",
    "        title = movie['title']\n",
    "        movie_info_list.append(get_info_box(full_path))\n",
    "    except Exception as e:\n",
    "        print(movie.get_text())\n",
    "        print(e)"
   ]
  },
  {
   "cell_type": "code",
   "execution_count": 26,
   "id": "a9630f2f",
   "metadata": {
    "scrolled": false
   },
   "outputs": [
    {
     "name": "stdout",
     "output_type": "stream",
     "text": [
      "{'Title': 'Victory Through Air Power', 'Directed by': ['Animated sequences:', 'James Algar', 'Clyde Geronimi', 'Jack Kinney', 'de Seversky scenes:', 'H.C. Potter'], 'Written by': ['Story direction:', 'Perce Pearce', 'Story adaptation:', 'T. Hee', 'Erdman Penner', 'Bill Cottrell', 'James Brodero', 'George Stallings', 'Jose Rodriguez'], 'Based on': 'Victory Through Air Power by Maj. Alexander P. Seversky', 'Produced by': 'Walt Disney', 'Starring': 'Alexander de Seversky', 'Narrated by': 'Art Baker', 'Cinematography': 'Ray Rennahan', 'Edited by': 'Jack Dennis', 'Music by': ['Edward H. Plumb', 'Paul J. Smith', 'Oliver Wallace'], 'Production company': 'Walt Disney Productions', 'Distributed by': 'United Artists', 'Release date': ['July 17, 1943'], 'Running time': '70 min', 'Country': 'United States', 'Language': 'English', 'Budget': '$788,000', 'Box office': '$799,000'}\n"
     ]
    }
   ],
   "source": [
    "print(movie_info_list[8])"
   ]
  },
  {
   "cell_type": "markdown",
   "id": "92b35c9f",
   "metadata": {},
   "source": [
    "####  Saving/Reload the data"
   ]
  },
  {
   "cell_type": "code",
   "execution_count": 17,
   "id": "6c2f87c3",
   "metadata": {},
   "outputs": [],
   "source": [
    "import json\n",
    "\n",
    "def save_data(title, data):\n",
    "    with open(title, 'w', encoding='utf-8') as f:\n",
    "        json.dump(data, f, ensure_ascii=False, indent=2)"
   ]
  },
  {
   "cell_type": "code",
   "execution_count": 12,
   "id": "9cb0b9ec",
   "metadata": {},
   "outputs": [],
   "source": [
    "import json\n",
    "\n",
    "def load_data(title):\n",
    "    with open(title, encoding='utf-8') as f:\n",
    "        return json.load(f)"
   ]
  },
  {
   "cell_type": "code",
   "execution_count": 9,
   "id": "5deac3da",
   "metadata": {},
   "outputs": [],
   "source": [
    "# save_data('disney_data_cleaned.json', movie_info_list)"
   ]
  },
  {
   "cell_type": "markdown",
   "id": "0367439a",
   "metadata": {},
   "source": [
    "## Task 2: Clean our data"
   ]
  },
  {
   "cell_type": "code",
   "execution_count": 229,
   "id": "ad6a43c0",
   "metadata": {},
   "outputs": [],
   "source": [
    "movie_info_list = load_data('disney_data_cleaned.json')"
   ]
  },
  {
   "cell_type": "markdown",
   "id": "7934afe6",
   "metadata": {},
   "source": [
    "##### We have to:\n",
    "- Clean up references (like [1], [2], etc.) - Done ✔\n",
    " - Adding the function clean_tags(page) at 'Functions to grab the informations' and it's used at the function get_info_box(url)\n",
    " ------------------------------------------------\n",
    "- Convert running time into an integer - Done ✔\n",
    " - Used RegExp to do it\n",
    " ------------------------------------------------\n",
    "- Convert dates to a datetime object\n",
    "------------------------------------------------\n",
    "- Split up the long strings - Done ✔\n",
    " - Adding the elif row_data.find('br') at function get_content_values(row_data)\n",
    "------------------------------------------------\n",
    "- Convert Budget and Box Office to numbers - Done ✔"
   ]
  },
  {
   "cell_type": "markdown",
   "id": "d65cbaa0",
   "metadata": {},
   "source": [
    "### Convert running time into an integer"
   ]
  },
  {
   "cell_type": "code",
   "execution_count": 230,
   "id": "598a3805",
   "metadata": {},
   "outputs": [],
   "source": [
    "import re\n",
    "\n",
    "pattern = r'(?:\\d{1,3}){1}'\n",
    "\n",
    "for index, movie in enumerate(movie_info_list):\n",
    "    if 'Running time' in movie:\n",
    "        if isinstance(movie['Running time'], list):\n",
    "            running_time = movie['Running time'][0]\n",
    "            time_min = int(re.findall(pattern, running_time)[0])\n",
    "        else:\n",
    "            time_min = int(re.findall(pattern, movie['Running time'])[0])\n",
    "        movie['Running time (min)'] = time_min"
   ]
  },
  {
   "cell_type": "code",
   "execution_count": 231,
   "id": "1c08c7cd",
   "metadata": {
    "scrolled": true
   },
   "outputs": [
    {
     "name": "stdout",
     "output_type": "stream",
     "text": [
      "41\n",
      "83\n",
      "88\n",
      "126\n",
      "74\n",
      "64\n",
      "70\n",
      "42\n",
      "70\n",
      "71\n",
      "75\n"
     ]
    }
   ],
   "source": [
    "for index, movie in enumerate(movie_info_list):\n",
    "    print(movie.get('Running time (min)', None))\n",
    "    if index >= 10:\n",
    "        break"
   ]
  },
  {
   "cell_type": "markdown",
   "id": "42ab3c3e",
   "metadata": {},
   "source": [
    "### Convert Budget and Box Office to numbers"
   ]
  },
  {
   "cell_type": "code",
   "execution_count": 232,
   "id": "7cc6cd2d",
   "metadata": {},
   "outputs": [],
   "source": [
    "import re\n",
    "\n",
    "amounts = r\"thousand|million|billion\"\n",
    "number = r\"\\d+(,\\d{3})*\\.*\\d*\"\n",
    "standard = fr\"\\${number}(-|\\sto\\s|–)?({number})?\\s({amounts})\"\n",
    "\n",
    "def word_to_value(word):\n",
    "    value_dict = {\"thousand\": 1000, \"million\": 1000000, \"billion\": 1000000000}\n",
    "    return value_dict.get(word.lower(), 1)\n",
    "\n",
    "def parse_word_syntax(string):\n",
    "    stripped_string = string.replace(\",\", \"\")\n",
    "    value = float(re.search(number, stripped_string).group())\n",
    "    modifier = word_to_value(re.search(amounts, string, flags=re.I).group())\n",
    "    return value*modifier\n",
    "\n",
    "def parse_value_syntax(string):\n",
    "    stripped_string = string.replace(\",\", \"\")\n",
    "    return float(re.search(number, stripped_string).group())\n",
    "\n",
    "def money_conversion(money):\n",
    "    if type(money) == list:\n",
    "        money = money[0]\n",
    "\n",
    "    word_syntax = re.search(standard, money, flags=re.I)\n",
    "    value_syntax = re.search(fr\"\\${number}\", money)\n",
    "\n",
    "    if word_syntax:\n",
    "        return parse_word_syntax(word_syntax.group())\n",
    "    elif value_syntax:\n",
    "        return parse_value_syntax(value_syntax.group())\n",
    "    else:\n",
    "        return None"
   ]
  },
  {
   "cell_type": "code",
   "execution_count": 233,
   "id": "6e15feea",
   "metadata": {
    "scrolled": true
   },
   "outputs": [],
   "source": [
    "for movie in movie_info_list:\n",
    "    movie['Budget (float)'] = money_conversion(movie.get('Budget', 'N/A'))\n",
    "    movie['Box office (float)'] = money_conversion(movie.get('Box office', 'N/A'))"
   ]
  },
  {
   "cell_type": "markdown",
   "id": "f2e64104",
   "metadata": {},
   "source": [
    "### Convert dates to a datetime object"
   ]
  },
  {
   "cell_type": "code",
   "execution_count": 291,
   "id": "d5857ded",
   "metadata": {
    "scrolled": false
   },
   "outputs": [
    {
     "data": {
      "text/plain": [
       "[['May 19, 1937'],\n",
       " ['December 21, 1937 ( Carthay Circle Theatre , Los Angeles , CA , premiere)'],\n",
       " ['February 7, 1940 ( Center Theatre )', 'February 23, 1940 (United States)'],\n",
       " ['November 13, 1940'],\n",
       " ['June 27, 1941'],\n",
       " ['October 23, 1941 (New York City)', 'October 31, 1941 (U.S.)'],\n",
       " ['August 9, 1942 (World Premiere – London)',\n",
       "  'August 13, 1942 (Premiere – New York City)',\n",
       "  'August 21, 1942 (U.S.)'],\n",
       " ['August 24, 1942 (World Premiere – Rio de Janeiro)',\n",
       "  'February 6, 1943 (U.S. Premiere – Boston)',\n",
       "  'February 19, 1943 (U.S.)'],\n",
       " ['July 17, 1943'],\n",
       " ['December 21, 1944 (Mexico City)', 'February 3, 1945 (US)'],\n",
       " ['April 20, 1946 (New York City premiere)', 'August 15, 1946 (U.S.)']]"
      ]
     },
     "execution_count": 291,
     "metadata": {},
     "output_type": "execute_result"
    }
   ],
   "source": [
    "[movie['Release date'] for index, movie in enumerate(movie_info_list) if 'Release date' in movie.keys() and index <=10]"
   ]
  },
  {
   "cell_type": "code",
   "execution_count": 300,
   "id": "ea908d85",
   "metadata": {},
   "outputs": [],
   "source": [
    "from datetime import datetime\n",
    "\n",
    "def clean_date(date):\n",
    "    return date.split('(')[0].strip()\n",
    "\n",
    "def date_conversion(date):\n",
    "   \n",
    "    if date == 'N/A':\n",
    "        return None\n",
    "    \n",
    "    elif isinstance(date, list):\n",
    "        date = date[0]\n",
    "        \n",
    "    date_str = clean_date(date)\n",
    "    fmts = ['%B %d, %Y', '%d %B %Y']\n",
    "    for fmt in fmts:\n",
    "        try:\n",
    "            return datetime.strptime(date_str, fmt)\n",
    "        except:\n",
    "            pass\n",
    "    return None  "
   ]
  },
  {
   "cell_type": "code",
   "execution_count": 301,
   "id": "62d523f1",
   "metadata": {},
   "outputs": [],
   "source": [
    "for movie in movie_info_list:\n",
    "    movie['Release date (datetime)'] = date_conversion(movie.get('Release date', 'N/A'))"
   ]
  },
  {
   "cell_type": "code",
   "execution_count": 7,
   "id": "1f61ab95",
   "metadata": {
    "scrolled": true
   },
   "outputs": [
    {
     "data": {
      "text/plain": [
       "{'Title': 'Dumbo',\n",
       " 'Directed by': ['Ben Sharpsteen',\n",
       "  '(supervising director)',\n",
       "  'Norman Ferguson',\n",
       "  'Wilfred Jackson',\n",
       "  'Bill Roberts',\n",
       "  'Jack Kinney',\n",
       "  'Samuel Armstrong'],\n",
       " 'Story by': ['Otto Englander', 'Joe Grant', 'Dick Huemer'],\n",
       " 'Based on': ['Dumbo, the Flying Elephant',\n",
       "  'by',\n",
       "  'Helen Aberson',\n",
       "  'Harold Pearl'],\n",
       " 'Produced by': 'Walt Disney',\n",
       " 'Starring': ['Edward Brophy',\n",
       "  'Verna Felton',\n",
       "  'Cliff Edwards',\n",
       "  'Herman Bing',\n",
       "  'Sterling Holloway',\n",
       "  'Margaret Wright',\n",
       "  'Hall Johnson Choir'],\n",
       " 'Narrated by': 'John McLeish',\n",
       " 'Music by': ['Frank Churchill', 'Oliver Wallace'],\n",
       " 'Production company': 'Walt Disney Productions',\n",
       " 'Distributed by': 'RKO Radio Pictures',\n",
       " 'Release date': ['October 23, 1941 (New York City)',\n",
       "  'October 31, 1941 (U.S.)'],\n",
       " 'Running time': '64 minutes',\n",
       " 'Country': 'United States',\n",
       " 'Language': 'English',\n",
       " 'Budget': '$950,000',\n",
       " 'Box office': '$1.3 million (est. United States/Canada rentals, 1941)',\n",
       " 'Running time (min)': 64,\n",
       " 'Budget (float)': 950000.0,\n",
       " 'Box office (float)': 1300000.0,\n",
       " 'Release date (datetime)': datetime.datetime(1941, 10, 23, 0, 0)}"
      ]
     },
     "execution_count": 7,
     "metadata": {},
     "output_type": "execute_result"
    }
   ],
   "source": [
    "movie_info_list[5]"
   ]
  },
  {
   "cell_type": "markdown",
   "id": "39a60030",
   "metadata": {},
   "source": [
    "### Saving the data with pickle"
   ]
  },
  {
   "cell_type": "code",
   "execution_count": 10,
   "id": "5d4ce0ef",
   "metadata": {},
   "outputs": [],
   "source": [
    "import pickle\n",
    "\n",
    "def save_data_pickle(name, data):\n",
    "    with open(name, 'wb') as f:\n",
    "        pickle.dump(data, f)"
   ]
  },
  {
   "cell_type": "code",
   "execution_count": 1,
   "id": "d73d07a7",
   "metadata": {},
   "outputs": [],
   "source": [
    "import pickle\n",
    "\n",
    "def load_data_pickle(name):\n",
    "    with open(name, 'rb') as f:\n",
    "        return pickle.load(f)"
   ]
  },
  {
   "cell_type": "code",
   "execution_count": 317,
   "id": "191120bc",
   "metadata": {},
   "outputs": [],
   "source": [
    "# save_data_pickle('disney_data_cleaned.pickle', movie_info_list)"
   ]
  },
  {
   "cell_type": "markdown",
   "id": "67426114",
   "metadata": {},
   "source": [
    "## Task 3: Attach IMDB/Rotten Tomatoes/Metascores scores"
   ]
  },
  {
   "cell_type": "code",
   "execution_count": 2,
   "id": "56bef1f1",
   "metadata": {},
   "outputs": [],
   "source": [
    "movie_info_list = load_data_pickle('disney_data_cleaned.pickle')"
   ]
  },
  {
   "cell_type": "code",
   "execution_count": 3,
   "id": "d78532ae",
   "metadata": {
    "scrolled": true
   },
   "outputs": [
    {
     "data": {
      "text/plain": [
       "'Snow White and the Seven Dwarfs'"
      ]
     },
     "execution_count": 3,
     "metadata": {},
     "output_type": "execute_result"
    }
   ],
   "source": [
    "movie_info_list[1]['Title']"
   ]
  },
  {
   "cell_type": "markdown",
   "id": "8ae607aa",
   "metadata": {},
   "source": [
    "### Functions to grab the scores"
   ]
  },
  {
   "cell_type": "code",
   "execution_count": 4,
   "id": "65da8cd6",
   "metadata": {
    "scrolled": false
   },
   "outputs": [
    {
     "data": {
      "text/plain": [
       "{'Title': 'Dumbo',\n",
       " 'Year': '1941',\n",
       " 'Rated': 'G',\n",
       " 'Released': '31 Oct 1941',\n",
       " 'Runtime': '64 min',\n",
       " 'Genre': 'Animation, Adventure, Drama',\n",
       " 'Director': 'Samuel Armstrong, Norman Ferguson, Wilfred Jackson',\n",
       " 'Writer': 'Joe Grant, Dick Huemer, Otto Englander',\n",
       " 'Actors': 'Sterling Holloway, Edward Brophy, Herman Bing',\n",
       " 'Plot': 'Ridiculed because of his enormous ears, a young circus elephant is assisted by a mouse to achieve his full potential.',\n",
       " 'Language': 'English',\n",
       " 'Country': 'United States',\n",
       " 'Awards': 'Won 1 Oscar. 5 wins & 1 nomination total',\n",
       " 'Poster': 'https://m.media-amazon.com/images/M/MV5BNWVmNWQ2OTQtNzJlNC00ZmQwLTg4ZTktZTNmM2IxZTlkOGM3L2ltYWdlXkEyXkFqcGdeQXVyNTAyODkwOQ@@._V1_SX300.jpg',\n",
       " 'Ratings': [{'Source': 'Internet Movie Database', 'Value': '7.2/10'},\n",
       "  {'Source': 'Rotten Tomatoes', 'Value': '98%'},\n",
       "  {'Source': 'Metacritic', 'Value': '96/100'}],\n",
       " 'Metascore': '96',\n",
       " 'imdbRating': '7.2',\n",
       " 'imdbVotes': '122,914',\n",
       " 'imdbID': 'tt0033563',\n",
       " 'Type': 'movie',\n",
       " 'DVD': '13 Dec 2015',\n",
       " 'BoxOffice': 'N/A',\n",
       " 'Production': 'Walt Disney Productions',\n",
       " 'Website': 'N/A',\n",
       " 'Response': 'True'}"
      ]
     },
     "execution_count": 4,
     "metadata": {},
     "output_type": "execute_result"
    }
   ],
   "source": [
    "from bs4 import BeautifulSoup as bs\n",
    "import requests, json, re, os, urllib\n",
    "\n",
    "# print(os.environ['OMDB_API_KEY'])\n",
    "\n",
    "def get_omdb_info(title):\n",
    "    base_url = 'http://www.omdbapi.com/?'\n",
    "    parameter = {'apikey': os.environ['OMDB_API_KEY'], 't':title}\n",
    "    params_encoded = urllib.parse.urlencode(parameter)\n",
    "    full_url = base_url + params_encoded\n",
    "    return requests.get(full_url).json()\n",
    "\n",
    "def get_rotten_tomatoes(omdb_info):\n",
    "    ratings = omdb_info.get('Ratings', [])\n",
    "    for rating in ratings:\n",
    "        if rating['Source'] == 'Rotten Tomatoes':\n",
    "            return rating['Value']\n",
    "    return None\n",
    "\n",
    "dumbo_info = get_omdb_info('dumbo')\n",
    "dumbo_info"
   ]
  },
  {
   "cell_type": "code",
   "execution_count": 5,
   "id": "3d81c4bf",
   "metadata": {},
   "outputs": [
    {
     "name": "stdout",
     "output_type": "stream",
     "text": [
      "0\n",
      "10\n",
      "20\n",
      "30\n",
      "40\n",
      "50\n",
      "60\n",
      "70\n",
      "80\n",
      "90\n",
      "100\n",
      "110\n",
      "120\n",
      "130\n",
      "140\n",
      "150\n",
      "160\n",
      "170\n",
      "180\n",
      "190\n",
      "200\n",
      "210\n",
      "220\n",
      "230\n",
      "240\n",
      "250\n",
      "260\n",
      "270\n",
      "280\n",
      "290\n",
      "300\n",
      "310\n",
      "320\n",
      "330\n",
      "340\n",
      "350\n",
      "360\n",
      "370\n",
      "380\n",
      "390\n",
      "400\n",
      "410\n",
      "420\n",
      "430\n",
      "440\n",
      "450\n"
     ]
    }
   ],
   "source": [
    "for index, movie in enumerate(movie_info_list):\n",
    "    if index % 10 == 0:\n",
    "        print(index)\n",
    "    title = movie['Title']\n",
    "    omdb_info = get_omdb_info(title)\n",
    "    movie['imdb'] = omdb_info.get('imdbRating', None)\n",
    "    movie['Metascore'] = omdb_info.get('Metascore', None)\n",
    "    movie['rotten_tomatoes'] = get_rotten_tomatoes(omdb_info)\n",
    "    "
   ]
  },
  {
   "cell_type": "code",
   "execution_count": 23,
   "id": "794ec160",
   "metadata": {},
   "outputs": [],
   "source": [
    "save_data_pickle('disney_final_data.pickle', movie_info_list)"
   ]
  },
  {
   "cell_type": "markdown",
   "id": "6afe9e51",
   "metadata": {},
   "source": [
    "## Task 4:  Saving data as JSON & CSV"
   ]
  },
  {
   "cell_type": "markdown",
   "id": "58130a09",
   "metadata": {},
   "source": [
    "### Saving as JSON"
   ]
  },
  {
   "cell_type": "code",
   "execution_count": 14,
   "id": "84874a2c",
   "metadata": {},
   "outputs": [],
   "source": [
    "movie_info_copy = [movie.copy() for movie in movie_info_list]\n",
    "\n",
    "for movie in movie_info_copy:\n",
    "    current_date = movie['Release date (datetime)']\n",
    "    if current_date:\n",
    "        movie['Release date (datetime)'] = current_date.strftime(\"%B %d, %Y\")\n",
    "    else:\n",
    "        movie['Release date (datetime)'] = None"
   ]
  },
  {
   "cell_type": "code",
   "execution_count": 22,
   "id": "3188a65f",
   "metadata": {
    "scrolled": true
   },
   "outputs": [
    {
     "name": "stdout",
     "output_type": "stream",
     "text": [
      "April 20, 1946\n",
      "1946-04-20 00:00:00\n"
     ]
    }
   ],
   "source": [
    "print(movie_info_copy[10]['Release date (datetime)'])\n",
    "print(movie_info_list[10]['Release date (datetime)'])"
   ]
  },
  {
   "cell_type": "code",
   "execution_count": 24,
   "id": "901e6663",
   "metadata": {},
   "outputs": [],
   "source": [
    "save_data('disney_final_data.json', movie_info_copy)"
   ]
  },
  {
   "cell_type": "markdown",
   "id": "97895272",
   "metadata": {},
   "source": [
    "### Saving as CSV"
   ]
  },
  {
   "cell_type": "code",
   "execution_count": 27,
   "id": "d82483da",
   "metadata": {},
   "outputs": [],
   "source": [
    "import pandas as pd\n",
    "\n",
    "df = pd.DataFrame(movie_info_list)"
   ]
  },
  {
   "cell_type": "code",
   "execution_count": 32,
   "id": "bc2ac53f",
   "metadata": {},
   "outputs": [
    {
     "data": {
      "text/html": [
       "<div>\n",
       "<style scoped>\n",
       "    .dataframe tbody tr th:only-of-type {\n",
       "        vertical-align: middle;\n",
       "    }\n",
       "\n",
       "    .dataframe tbody tr th {\n",
       "        vertical-align: top;\n",
       "    }\n",
       "\n",
       "    .dataframe thead th {\n",
       "        text-align: right;\n",
       "    }\n",
       "</style>\n",
       "<table border=\"1\" class=\"dataframe\">\n",
       "  <thead>\n",
       "    <tr style=\"text-align: right;\">\n",
       "      <th></th>\n",
       "      <th>Title</th>\n",
       "      <th>Production company</th>\n",
       "      <th>Release date</th>\n",
       "      <th>Running time</th>\n",
       "      <th>Country</th>\n",
       "      <th>Language</th>\n",
       "      <th>Box office</th>\n",
       "      <th>Running time (min)</th>\n",
       "      <th>Budget (float)</th>\n",
       "      <th>Box office (float)</th>\n",
       "      <th>...</th>\n",
       "      <th>Executive producer</th>\n",
       "      <th>Producers</th>\n",
       "      <th>Editors</th>\n",
       "      <th>Distributor</th>\n",
       "      <th>Japanese</th>\n",
       "      <th>Hepburn</th>\n",
       "      <th>Adaptation by</th>\n",
       "      <th>Animation by</th>\n",
       "      <th>Traditional</th>\n",
       "      <th>Simplified</th>\n",
       "    </tr>\n",
       "  </thead>\n",
       "  <tbody>\n",
       "    <tr>\n",
       "      <th>0</th>\n",
       "      <td>Academy Award Review of</td>\n",
       "      <td>Walt Disney Productions</td>\n",
       "      <td>[May 19, 1937]</td>\n",
       "      <td>41 minutes (74 minutes 1966 release)</td>\n",
       "      <td>United States</td>\n",
       "      <td>English</td>\n",
       "      <td>$45.472</td>\n",
       "      <td>41.0</td>\n",
       "      <td>NaN</td>\n",
       "      <td>4.547200e+01</td>\n",
       "      <td>...</td>\n",
       "      <td>NaN</td>\n",
       "      <td>NaN</td>\n",
       "      <td>NaN</td>\n",
       "      <td>NaN</td>\n",
       "      <td>NaN</td>\n",
       "      <td>NaN</td>\n",
       "      <td>NaN</td>\n",
       "      <td>NaN</td>\n",
       "      <td>NaN</td>\n",
       "      <td>NaN</td>\n",
       "    </tr>\n",
       "    <tr>\n",
       "      <th>1</th>\n",
       "      <td>Snow White and the Seven Dwarfs</td>\n",
       "      <td>Walt Disney Productions</td>\n",
       "      <td>[December 21, 1937 ( Carthay Circle Theatre , ...</td>\n",
       "      <td>83 minutes</td>\n",
       "      <td>United States</td>\n",
       "      <td>English</td>\n",
       "      <td>$418 million</td>\n",
       "      <td>83.0</td>\n",
       "      <td>1490000.0</td>\n",
       "      <td>4.180000e+08</td>\n",
       "      <td>...</td>\n",
       "      <td>NaN</td>\n",
       "      <td>NaN</td>\n",
       "      <td>NaN</td>\n",
       "      <td>NaN</td>\n",
       "      <td>NaN</td>\n",
       "      <td>NaN</td>\n",
       "      <td>NaN</td>\n",
       "      <td>NaN</td>\n",
       "      <td>NaN</td>\n",
       "      <td>NaN</td>\n",
       "    </tr>\n",
       "    <tr>\n",
       "      <th>2</th>\n",
       "      <td>Pinocchio</td>\n",
       "      <td>Walt Disney Productions</td>\n",
       "      <td>[February 7, 1940 ( Center Theatre ), February...</td>\n",
       "      <td>88 minutes</td>\n",
       "      <td>United States</td>\n",
       "      <td>English</td>\n",
       "      <td>$164 million</td>\n",
       "      <td>88.0</td>\n",
       "      <td>2600000.0</td>\n",
       "      <td>1.640000e+08</td>\n",
       "      <td>...</td>\n",
       "      <td>NaN</td>\n",
       "      <td>NaN</td>\n",
       "      <td>NaN</td>\n",
       "      <td>NaN</td>\n",
       "      <td>NaN</td>\n",
       "      <td>NaN</td>\n",
       "      <td>NaN</td>\n",
       "      <td>NaN</td>\n",
       "      <td>NaN</td>\n",
       "      <td>NaN</td>\n",
       "    </tr>\n",
       "    <tr>\n",
       "      <th>3</th>\n",
       "      <td>Fantasia</td>\n",
       "      <td>Walt Disney Productions</td>\n",
       "      <td>[November 13, 1940]</td>\n",
       "      <td>126 minutes</td>\n",
       "      <td>United States</td>\n",
       "      <td>English</td>\n",
       "      <td>$76.4–$83.3 million (United States and Canada)</td>\n",
       "      <td>126.0</td>\n",
       "      <td>2280000.0</td>\n",
       "      <td>8.330000e+07</td>\n",
       "      <td>...</td>\n",
       "      <td>NaN</td>\n",
       "      <td>NaN</td>\n",
       "      <td>NaN</td>\n",
       "      <td>NaN</td>\n",
       "      <td>NaN</td>\n",
       "      <td>NaN</td>\n",
       "      <td>NaN</td>\n",
       "      <td>NaN</td>\n",
       "      <td>NaN</td>\n",
       "      <td>NaN</td>\n",
       "    </tr>\n",
       "    <tr>\n",
       "      <th>4</th>\n",
       "      <td>The Reluctant Dragon</td>\n",
       "      <td>Walt Disney Productions</td>\n",
       "      <td>[June 27, 1941]</td>\n",
       "      <td>74 minutes</td>\n",
       "      <td>United States</td>\n",
       "      <td>English</td>\n",
       "      <td>$960,000 (worldwide rentals)</td>\n",
       "      <td>74.0</td>\n",
       "      <td>600000.0</td>\n",
       "      <td>9.600000e+05</td>\n",
       "      <td>...</td>\n",
       "      <td>NaN</td>\n",
       "      <td>NaN</td>\n",
       "      <td>NaN</td>\n",
       "      <td>NaN</td>\n",
       "      <td>NaN</td>\n",
       "      <td>NaN</td>\n",
       "      <td>NaN</td>\n",
       "      <td>NaN</td>\n",
       "      <td>NaN</td>\n",
       "      <td>NaN</td>\n",
       "    </tr>\n",
       "  </tbody>\n",
       "</table>\n",
       "<p>5 rows × 53 columns</p>\n",
       "</div>"
      ],
      "text/plain": [
       "                             Title       Production company  \\\n",
       "0          Academy Award Review of  Walt Disney Productions   \n",
       "1  Snow White and the Seven Dwarfs  Walt Disney Productions   \n",
       "2                        Pinocchio  Walt Disney Productions   \n",
       "3                         Fantasia  Walt Disney Productions   \n",
       "4             The Reluctant Dragon  Walt Disney Productions   \n",
       "\n",
       "                                        Release date  \\\n",
       "0                                     [May 19, 1937]   \n",
       "1  [December 21, 1937 ( Carthay Circle Theatre , ...   \n",
       "2  [February 7, 1940 ( Center Theatre ), February...   \n",
       "3                                [November 13, 1940]   \n",
       "4                                    [June 27, 1941]   \n",
       "\n",
       "                           Running time        Country Language  \\\n",
       "0  41 minutes (74 minutes 1966 release)  United States  English   \n",
       "1                            83 minutes  United States  English   \n",
       "2                            88 minutes  United States  English   \n",
       "3                           126 minutes  United States  English   \n",
       "4                            74 minutes  United States  English   \n",
       "\n",
       "                                       Box office  Running time (min)  \\\n",
       "0                                         $45.472                41.0   \n",
       "1                                    $418 million                83.0   \n",
       "2                                    $164 million                88.0   \n",
       "3  $76.4–$83.3 million (United States and Canada)               126.0   \n",
       "4                    $960,000 (worldwide rentals)                74.0   \n",
       "\n",
       "   Budget (float)  Box office (float)  ... Executive producer Producers  \\\n",
       "0             NaN        4.547200e+01  ...                NaN       NaN   \n",
       "1       1490000.0        4.180000e+08  ...                NaN       NaN   \n",
       "2       2600000.0        1.640000e+08  ...                NaN       NaN   \n",
       "3       2280000.0        8.330000e+07  ...                NaN       NaN   \n",
       "4        600000.0        9.600000e+05  ...                NaN       NaN   \n",
       "\n",
       "  Editors Distributor Japanese Hepburn Adaptation by Animation by Traditional  \\\n",
       "0     NaN         NaN      NaN     NaN           NaN          NaN         NaN   \n",
       "1     NaN         NaN      NaN     NaN           NaN          NaN         NaN   \n",
       "2     NaN         NaN      NaN     NaN           NaN          NaN         NaN   \n",
       "3     NaN         NaN      NaN     NaN           NaN          NaN         NaN   \n",
       "4     NaN         NaN      NaN     NaN           NaN          NaN         NaN   \n",
       "\n",
       "  Simplified  \n",
       "0        NaN  \n",
       "1        NaN  \n",
       "2        NaN  \n",
       "3        NaN  \n",
       "4        NaN  \n",
       "\n",
       "[5 rows x 53 columns]"
      ]
     },
     "execution_count": 32,
     "metadata": {},
     "output_type": "execute_result"
    }
   ],
   "source": [
    "df.head()"
   ]
  },
  {
   "cell_type": "code",
   "execution_count": 33,
   "id": "be190e1d",
   "metadata": {},
   "outputs": [],
   "source": [
    "df.to_csv('disney_final_data.csv')"
   ]
  },
  {
   "cell_type": "code",
   "execution_count": null,
   "id": "cd36dd7f",
   "metadata": {},
   "outputs": [],
   "source": []
  }
 ],
 "metadata": {
  "kernelspec": {
   "display_name": "Python 3",
   "language": "python",
   "name": "python3"
  },
  "language_info": {
   "codemirror_mode": {
    "name": "ipython",
    "version": 3
   },
   "file_extension": ".py",
   "mimetype": "text/x-python",
   "name": "python",
   "nbconvert_exporter": "python",
   "pygments_lexer": "ipython3",
   "version": "3.8.8"
  }
 },
 "nbformat": 4,
 "nbformat_minor": 5
}
